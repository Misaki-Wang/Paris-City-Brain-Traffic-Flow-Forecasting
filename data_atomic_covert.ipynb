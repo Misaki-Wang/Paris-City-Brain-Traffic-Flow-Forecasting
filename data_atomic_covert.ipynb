{
 "cells": [
  {
   "cell_type": "code",
   "execution_count": 3,
   "metadata": {},
   "outputs": [
    {
     "name": "stderr",
     "output_type": "stream",
     "text": [
      "/tmp/ipykernel_851702/2829014297.py:16: SettingWithCopyWarning: \n",
      "A value is trying to be set on a copy of a slice from a DataFrame.\n",
      "Try using .loc[row_indexer,col_indexer] = value instead\n",
      "\n",
      "See the caveats in the documentation: https://pandas.pydata.org/pandas-docs/stable/user_guide/indexing.html#returning-a-view-versus-a-copy\n",
      "  geo_data['type'] = 'Point'\n"
     ]
    },
    {
     "name": "stdout",
     "output_type": "stream",
     "text": [
      "Files created: traffic.geo, traffic.dyna, traffic.rel, config.json\n"
     ]
    }
   ],
   "source": [
    "import pandas as pd\n",
    "import numpy as np\n",
    "import json\n",
    "import os\n",
    "\n",
    "outdir = \"./traffic/\"\n",
    "if not os.path.exists(outdir):\n",
    "    os.makedirs(outdir)\n",
    "# Load your datasets\n",
    "train_data = pd.read_csv('loop_sensor_train.csv')\n",
    "metadata = pd.read_csv('geo_reference.csv', delimiter=';')\n"
   ]
  },
  {
   "cell_type": "code",
   "execution_count": 4,
   "metadata": {},
   "outputs": [
    {
     "name": "stderr",
     "output_type": "stream",
     "text": [
      "/tmp/ipykernel_851702/2621750846.py:4: SettingWithCopyWarning: \n",
      "A value is trying to be set on a copy of a slice from a DataFrame.\n",
      "Try using .loc[row_indexer,col_indexer] = value instead\n",
      "\n",
      "See the caveats in the documentation: https://pandas.pydata.org/pandas-docs/stable/user_guide/indexing.html#returning-a-view-versus-a-copy\n",
      "  geo_data['type'] = 'Point'\n",
      "/tmp/ipykernel_851702/2621750846.py:5: SettingWithCopyWarning: \n",
      "A value is trying to be set on a copy of a slice from a DataFrame.\n",
      "Try using .loc[row_indexer,col_indexer] = value instead\n",
      "\n",
      "See the caveats in the documentation: https://pandas.pydata.org/pandas-docs/stable/user_guide/indexing.html#returning-a-view-versus-a-copy\n",
      "  geo_data['coordinates'] ='[' + geo_data['coordinates'] +']'\n"
     ]
    }
   ],
   "source": [
    "'''\n",
    "iu_ac        -> geo_id\n",
    "geo_point_2d -> coordinates\n",
    "'''\n",
    "# Create .geo file\n",
    "geo_data = metadata[['iu_ac', 'geo_point_2d']]\n",
    "geo_data.columns = ['geo_id', 'coordinates']\n",
    "geo_data['type'] = 'Point'\n",
    "geo_data['coordinates'] ='[' + geo_data['coordinates'] +']'\n",
    "geo_data = geo_data[['geo_id', 'type', 'coordinates']]\n",
    "geo_data.to_csv(outdir+'traffic.geo', index=False)\n"
   ]
  },
  {
   "cell_type": "code",
   "execution_count": null,
   "metadata": {},
   "outputs": [],
   "source": [
    "\n",
    "# Create .dyna file\n",
    "train_data['dyna_id'] = range(len(train_data))\n",
    "dyna_data = train_data[['dyna_id', 't_1h', 'iu_ac', 'q']]\n",
    "dyna_data.columns = ['dyna_id', 'time', 'entity_id', 'traffic_flow']\n",
    "dyna_data.to_csv(outdir+'traffic.dyna', index=False)\n"
   ]
  },
  {
   "cell_type": "code",
   "execution_count": null,
   "metadata": {},
   "outputs": [],
   "source": [
    "\n",
    "# Create .rel file - assume a simplistic relation, perhaps distance, which needs to be added if it doesn't exist\n",
    "# This part is hypothetical and assumes a relationship based on some distance metric\n",
    "rel_data = metadata[['iu_ac']].drop_duplicates()\n",
    "rel_data['rel_id'] = range(len(rel_data))\n",
    "rel_data['distance'] = np.random.uniform(1, 100, len(rel_data))  # Random distances as an example\n",
    "rel_data['type'] = 'geo'\n",
    "rel_data.columns = ['entity_id', 'rel_id', 'distance', 'type']\n",
    "rel_data = rel_data[['rel_id', 'type', 'entity_id', 'distance']]\n",
    "rel_data.to_csv(outdir+'traffic.rel', index=False)\n"
   ]
  },
  {
   "cell_type": "code",
   "execution_count": null,
   "metadata": {},
   "outputs": [],
   "source": [
    "\n",
    "# Create config.json file\n",
    "config_data = {\n",
    "    \"geo\": {\n",
    "        \"including_types\": [\"Point\"],\n",
    "        \"Point\": {}\n",
    "    },\n",
    "    \"rel\": {\n",
    "        \"including_types\": [\"geo\"],\n",
    "        \"geo\": {\n",
    "            \"distance\": \"num\"\n",
    "        }\n",
    "    },\n",
    "    \"dyna\": {\n",
    "        \"including_types\": [\"state\"],\n",
    "        \"state\": {\n",
    "            \"entity_id\": \"geo_id\",\n",
    "            \"traffic_flow\": \"num\"\n",
    "        }\n",
    "    },\n",
    "    \"info\": {\n",
    "        \"data_col\": [\"traffic_flow\"],\n",
    "        \"weight_col\": \"distance\",\n",
    "        \"data_files\": [\"traffic\"],\n",
    "        \"geo_file\": \"traffic\",\n",
    "        \"rel_file\": \"traffic\",\n",
    "        \"output_dim\": 1,\n",
    "        \"time_intervals\": 300,\n",
    "        \"init_weight_inf_or_zero\": \"zero\",\n",
    "        \"set_weight_link_or_dist\": \"link\",\n",
    "        \"calculate_weight_adj\": False,\n",
    "        \"weight_adj_epsilon\": 0.1\n",
    "    }\n",
    "}\n",
    "\n",
    "with open(outdir+'config.json', 'w') as fp:\n",
    "    json.dump(config_data, fp, indent=4)\n",
    "\n",
    "print(\"Files created: traffic.geo, traffic.dyna, traffic.rel, config.json\")\n"
   ]
  }
 ],
 "metadata": {
  "kernelspec": {
   "display_name": "traffic",
   "language": "python",
   "name": "python3"
  },
  "language_info": {
   "codemirror_mode": {
    "name": "ipython",
    "version": 3
   },
   "file_extension": ".py",
   "mimetype": "text/x-python",
   "name": "python",
   "nbconvert_exporter": "python",
   "pygments_lexer": "ipython3",
   "version": "3.8.19"
  }
 },
 "nbformat": 4,
 "nbformat_minor": 2
}
