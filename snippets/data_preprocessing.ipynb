{
 "cells": [
  {
   "cell_type": "code",
   "execution_count": 1,
   "metadata": {},
   "outputs": [],
   "source": [
    "import pandas as pd"
   ]
  },
  {
   "cell_type": "code",
   "execution_count": 2,
   "metadata": {},
   "outputs": [],
   "source": [
    "inputdir = '../data/'"
   ]
  },
  {
   "cell_type": "code",
   "execution_count": 5,
   "metadata": {},
   "outputs": [
    {
     "name": "stdout",
     "output_type": "stream",
     "text": [
      "(439298, 5)\n"
     ]
    }
   ],
   "source": [
    "# 读取测试数据和基线数据\n",
    "test_data = pd.read_csv(inputdir + 'loop_sensor_test_x.csv')\n",
    "baseline = pd.read_csv(inputdir + 'loop_sensor_test_baseline.csv')\n",
    "\n",
    "# 确保两个 DataFrame 行数相同\n",
    "if len(test_data) == len(baseline):\n",
    "    # 将 baseline 的 'estimate_q' 列添加到 test_data 中\n",
    "    test_data['q'] = baseline['estimate_q']\n",
    "    print(test_data.shape)\n",
    "    # 保存新的 DataFrame 到 CSV 文件\n",
    "    test_data.to_csv(inputdir + 'loop_sensor_eval.csv', index=False)\n",
    "else:\n",
    "    print(\"Error: The number of rows in test_data and baseline does not match.\")"
   ]
  },
  {
   "cell_type": "code",
   "execution_count": null,
   "metadata": {},
   "outputs": [],
   "source": [
    "# Load the data\n",
    "train_data = pd.read_csv(inputdir + 'loop_sensor_train.csv')\n",
    "test_data = pd.read_csv(inputdir + 'loop_sensor_test_x.csv')\n",
    "metadata = pd.read_csv(inputdir + 'geo_reference.csv', delimiter=';')\n",
    "baseline = pd.read_csv(inputdir + 'loop_sensor_test_baseline.csv')"
   ]
  },
  {
   "cell_type": "code",
   "execution_count": 17,
   "metadata": {},
   "outputs": [
    {
     "name": "stdout",
     "output_type": "stream",
     "text": [
      "(439298, 2)\n"
     ]
    },
    {
     "data": {
      "text/html": [
       "<div>\n",
       "<style scoped>\n",
       "    .dataframe tbody tr th:only-of-type {\n",
       "        vertical-align: middle;\n",
       "    }\n",
       "\n",
       "    .dataframe tbody tr th {\n",
       "        vertical-align: top;\n",
       "    }\n",
       "\n",
       "    .dataframe thead th {\n",
       "        text-align: right;\n",
       "    }\n",
       "</style>\n",
       "<table border=\"1\" class=\"dataframe\">\n",
       "  <thead>\n",
       "    <tr style=\"text-align: right;\">\n",
       "      <th></th>\n",
       "      <th>id</th>\n",
       "      <th>estimate_q</th>\n",
       "    </tr>\n",
       "  </thead>\n",
       "  <tbody>\n",
       "    <tr>\n",
       "      <th>0</th>\n",
       "      <td>1</td>\n",
       "      <td>1184.0</td>\n",
       "    </tr>\n",
       "    <tr>\n",
       "      <th>1</th>\n",
       "      <td>2</td>\n",
       "      <td>273.0</td>\n",
       "    </tr>\n",
       "    <tr>\n",
       "      <th>2</th>\n",
       "      <td>3</td>\n",
       "      <td>1495.0</td>\n",
       "    </tr>\n",
       "    <tr>\n",
       "      <th>3</th>\n",
       "      <td>4</td>\n",
       "      <td>1612.0</td>\n",
       "    </tr>\n",
       "    <tr>\n",
       "      <th>4</th>\n",
       "      <td>5</td>\n",
       "      <td>1948.0</td>\n",
       "    </tr>\n",
       "  </tbody>\n",
       "</table>\n",
       "</div>"
      ],
      "text/plain": [
       "   id  estimate_q\n",
       "0   1      1184.0\n",
       "1   2       273.0\n",
       "2   3      1495.0\n",
       "3   4      1612.0\n",
       "4   5      1948.0"
      ]
     },
     "execution_count": 17,
     "metadata": {},
     "output_type": "execute_result"
    }
   ],
   "source": [
    "print(baseline.shape)\n",
    "baseline.head()"
   ]
  },
  {
   "cell_type": "code",
   "execution_count": 11,
   "metadata": {},
   "outputs": [
    {
     "data": {
      "text/plain": [
       "iu_ac                           5\n",
       "t_1h          2022-01-01 00:00:00\n",
       "etat_barre                      1\n",
       "q                             0.0\n",
       "dtype: object"
      ]
     },
     "execution_count": 11,
     "metadata": {},
     "output_type": "execute_result"
    }
   ],
   "source": [
    "train_data.min()"
   ]
  },
  {
   "cell_type": "code",
   "execution_count": 18,
   "metadata": {},
   "outputs": [
    {
     "name": "stdout",
     "output_type": "stream",
     "text": [
      "(439298, 4)\n"
     ]
    },
    {
     "data": {
      "text/html": [
       "<div>\n",
       "<style scoped>\n",
       "    .dataframe tbody tr th:only-of-type {\n",
       "        vertical-align: middle;\n",
       "    }\n",
       "\n",
       "    .dataframe tbody tr th {\n",
       "        vertical-align: top;\n",
       "    }\n",
       "\n",
       "    .dataframe thead th {\n",
       "        text-align: right;\n",
       "    }\n",
       "</style>\n",
       "<table border=\"1\" class=\"dataframe\">\n",
       "  <thead>\n",
       "    <tr style=\"text-align: right;\">\n",
       "      <th></th>\n",
       "      <th>id</th>\n",
       "      <th>iu_ac</th>\n",
       "      <th>t_1h</th>\n",
       "      <th>etat_barre</th>\n",
       "    </tr>\n",
       "  </thead>\n",
       "  <tbody>\n",
       "    <tr>\n",
       "      <th>0</th>\n",
       "      <td>1</td>\n",
       "      <td>5</td>\n",
       "      <td>2023-01-02 00:00:00</td>\n",
       "      <td>3</td>\n",
       "    </tr>\n",
       "    <tr>\n",
       "      <th>1</th>\n",
       "      <td>2</td>\n",
       "      <td>5</td>\n",
       "      <td>2023-01-03 05:00:00</td>\n",
       "      <td>3</td>\n",
       "    </tr>\n",
       "    <tr>\n",
       "      <th>2</th>\n",
       "      <td>3</td>\n",
       "      <td>5</td>\n",
       "      <td>2023-01-04 10:00:00</td>\n",
       "      <td>3</td>\n",
       "    </tr>\n",
       "    <tr>\n",
       "      <th>3</th>\n",
       "      <td>4</td>\n",
       "      <td>5</td>\n",
       "      <td>2023-01-05 15:00:00</td>\n",
       "      <td>3</td>\n",
       "    </tr>\n",
       "    <tr>\n",
       "      <th>4</th>\n",
       "      <td>5</td>\n",
       "      <td>5</td>\n",
       "      <td>2023-01-06 20:00:00</td>\n",
       "      <td>3</td>\n",
       "    </tr>\n",
       "  </tbody>\n",
       "</table>\n",
       "</div>"
      ],
      "text/plain": [
       "   id  iu_ac                 t_1h  etat_barre\n",
       "0   1      5  2023-01-02 00:00:00           3\n",
       "1   2      5  2023-01-03 05:00:00           3\n",
       "2   3      5  2023-01-04 10:00:00           3\n",
       "3   4      5  2023-01-05 15:00:00           3\n",
       "4   5      5  2023-01-06 20:00:00           3"
      ]
     },
     "execution_count": 18,
     "metadata": {},
     "output_type": "execute_result"
    }
   ],
   "source": [
    "print(test_data.shape)\n",
    "test_data.head()"
   ]
  },
  {
   "cell_type": "code",
   "execution_count": 27,
   "metadata": {},
   "outputs": [
    {
     "name": "stdout",
     "output_type": "stream",
     "text": [
      "44127 11105 384066\n"
     ]
    }
   ],
   "source": [
    "count_etat_barre_1 = test_data['etat_barre'].value_counts()[1]\n",
    "count_etat_barre_2 = test_data['etat_barre'].value_counts()[2]\n",
    "count_etat_barre_3 = test_data['etat_barre'].value_counts()[3]\n",
    "print(count_etat_barre_1,count_etat_barre_2,count_etat_barre_3)"
   ]
  },
  {
   "cell_type": "code",
   "execution_count": 15,
   "metadata": {},
   "outputs": [
    {
     "ename": "AttributeError",
     "evalue": "Can only use .dt accessor with datetimelike values",
     "output_type": "error",
     "traceback": [
      "\u001b[0;31m---------------------------------------------------------------------------\u001b[0m",
      "\u001b[0;31mAttributeError\u001b[0m                            Traceback (most recent call last)",
      "Cell \u001b[0;32mIn[15], line 10\u001b[0m\n\u001b[1;32m      7\u001b[0m             test\u001b[38;5;241m.\u001b[39mappend(group\u001b[38;5;241m.\u001b[39miloc[\u001b[38;5;241m24\u001b[39m])\n\u001b[1;32m      8\u001b[0m     \u001b[38;5;28;01mreturn\u001b[39;00m train, pd\u001b[38;5;241m.\u001b[39mDataFrame(test)\n\u001b[0;32m---> 10\u001b[0m train, eval_data \u001b[38;5;241m=\u001b[39m \u001b[43mpreprocess_data\u001b[49m\u001b[43m(\u001b[49m\u001b[43mtrain_data\u001b[49m\u001b[43m)\u001b[49m\n\u001b[1;32m     11\u001b[0m \u001b[38;5;66;03m# print(train.shape, eval_data.shape)\u001b[39;00m\n",
      "Cell \u001b[0;32mIn[15], line 2\u001b[0m, in \u001b[0;36mpreprocess_data\u001b[0;34m(data)\u001b[0m\n\u001b[1;32m      1\u001b[0m \u001b[38;5;28;01mdef\u001b[39;00m \u001b[38;5;21mpreprocess_data\u001b[39m(data):\n\u001b[0;32m----> 2\u001b[0m     train \u001b[38;5;241m=\u001b[39m data[\u001b[43mdata\u001b[49m\u001b[43m[\u001b[49m\u001b[38;5;124;43m'\u001b[39;49m\u001b[38;5;124;43mt_1h\u001b[39;49m\u001b[38;5;124;43m'\u001b[39;49m\u001b[43m]\u001b[49m\u001b[38;5;241;43m.\u001b[39;49m\u001b[43mdt\u001b[49m\u001b[38;5;241m.\u001b[39myear \u001b[38;5;241m==\u001b[39m \u001b[38;5;241m2022\u001b[39m]\n\u001b[1;32m      3\u001b[0m     test \u001b[38;5;241m=\u001b[39m []\n\u001b[1;32m      4\u001b[0m     \u001b[38;5;28;01mfor\u001b[39;00m name, group \u001b[38;5;129;01min\u001b[39;00m data[data[\u001b[38;5;124m'\u001b[39m\u001b[38;5;124mt_1h\u001b[39m\u001b[38;5;124m'\u001b[39m]\u001b[38;5;241m.\u001b[39mdt\u001b[38;5;241m.\u001b[39myear \u001b[38;5;241m==\u001b[39m \u001b[38;5;241m2023\u001b[39m]\u001b[38;5;241m.\u001b[39mgroupby(pd\u001b[38;5;241m.\u001b[39mGrouper(key\u001b[38;5;241m=\u001b[39m\u001b[38;5;124m'\u001b[39m\u001b[38;5;124mt_1h\u001b[39m\u001b[38;5;124m'\u001b[39m, freq\u001b[38;5;241m=\u001b[39m\u001b[38;5;124m'\u001b[39m\u001b[38;5;124m30h\u001b[39m\u001b[38;5;124m'\u001b[39m)):\n",
      "File \u001b[0;32m/media/ssd4t/anaconda3/envs/traffic/lib/python3.9/site-packages/pandas/core/generic.py:6299\u001b[0m, in \u001b[0;36mNDFrame.__getattr__\u001b[0;34m(self, name)\u001b[0m\n\u001b[1;32m   6292\u001b[0m \u001b[38;5;28;01mif\u001b[39;00m (\n\u001b[1;32m   6293\u001b[0m     name \u001b[38;5;129;01mnot\u001b[39;00m \u001b[38;5;129;01min\u001b[39;00m \u001b[38;5;28mself\u001b[39m\u001b[38;5;241m.\u001b[39m_internal_names_set\n\u001b[1;32m   6294\u001b[0m     \u001b[38;5;129;01mand\u001b[39;00m name \u001b[38;5;129;01mnot\u001b[39;00m \u001b[38;5;129;01min\u001b[39;00m \u001b[38;5;28mself\u001b[39m\u001b[38;5;241m.\u001b[39m_metadata\n\u001b[1;32m   6295\u001b[0m     \u001b[38;5;129;01mand\u001b[39;00m name \u001b[38;5;129;01mnot\u001b[39;00m \u001b[38;5;129;01min\u001b[39;00m \u001b[38;5;28mself\u001b[39m\u001b[38;5;241m.\u001b[39m_accessors\n\u001b[1;32m   6296\u001b[0m     \u001b[38;5;129;01mand\u001b[39;00m \u001b[38;5;28mself\u001b[39m\u001b[38;5;241m.\u001b[39m_info_axis\u001b[38;5;241m.\u001b[39m_can_hold_identifiers_and_holds_name(name)\n\u001b[1;32m   6297\u001b[0m ):\n\u001b[1;32m   6298\u001b[0m     \u001b[38;5;28;01mreturn\u001b[39;00m \u001b[38;5;28mself\u001b[39m[name]\n\u001b[0;32m-> 6299\u001b[0m \u001b[38;5;28;01mreturn\u001b[39;00m \u001b[38;5;28;43mobject\u001b[39;49m\u001b[38;5;241;43m.\u001b[39;49m\u001b[38;5;21;43m__getattribute__\u001b[39;49m\u001b[43m(\u001b[49m\u001b[38;5;28;43mself\u001b[39;49m\u001b[43m,\u001b[49m\u001b[43m \u001b[49m\u001b[43mname\u001b[49m\u001b[43m)\u001b[49m\n",
      "File \u001b[0;32m/media/ssd4t/anaconda3/envs/traffic/lib/python3.9/site-packages/pandas/core/accessor.py:224\u001b[0m, in \u001b[0;36mCachedAccessor.__get__\u001b[0;34m(self, obj, cls)\u001b[0m\n\u001b[1;32m    221\u001b[0m \u001b[38;5;28;01mif\u001b[39;00m obj \u001b[38;5;129;01mis\u001b[39;00m \u001b[38;5;28;01mNone\u001b[39;00m:\n\u001b[1;32m    222\u001b[0m     \u001b[38;5;66;03m# we're accessing the attribute of the class, i.e., Dataset.geo\u001b[39;00m\n\u001b[1;32m    223\u001b[0m     \u001b[38;5;28;01mreturn\u001b[39;00m \u001b[38;5;28mself\u001b[39m\u001b[38;5;241m.\u001b[39m_accessor\n\u001b[0;32m--> 224\u001b[0m accessor_obj \u001b[38;5;241m=\u001b[39m \u001b[38;5;28;43mself\u001b[39;49m\u001b[38;5;241;43m.\u001b[39;49m\u001b[43m_accessor\u001b[49m\u001b[43m(\u001b[49m\u001b[43mobj\u001b[49m\u001b[43m)\u001b[49m\n\u001b[1;32m    225\u001b[0m \u001b[38;5;66;03m# Replace the property with the accessor object. Inspired by:\u001b[39;00m\n\u001b[1;32m    226\u001b[0m \u001b[38;5;66;03m# https://www.pydanny.com/cached-property.html\u001b[39;00m\n\u001b[1;32m    227\u001b[0m \u001b[38;5;66;03m# We need to use object.__setattr__ because we overwrite __setattr__ on\u001b[39;00m\n\u001b[1;32m    228\u001b[0m \u001b[38;5;66;03m# NDFrame\u001b[39;00m\n\u001b[1;32m    229\u001b[0m \u001b[38;5;28mobject\u001b[39m\u001b[38;5;241m.\u001b[39m\u001b[38;5;21m__setattr__\u001b[39m(obj, \u001b[38;5;28mself\u001b[39m\u001b[38;5;241m.\u001b[39m_name, accessor_obj)\n",
      "File \u001b[0;32m/media/ssd4t/anaconda3/envs/traffic/lib/python3.9/site-packages/pandas/core/indexes/accessors.py:643\u001b[0m, in \u001b[0;36mCombinedDatetimelikeProperties.__new__\u001b[0;34m(cls, data)\u001b[0m\n\u001b[1;32m    640\u001b[0m \u001b[38;5;28;01melif\u001b[39;00m \u001b[38;5;28misinstance\u001b[39m(data\u001b[38;5;241m.\u001b[39mdtype, PeriodDtype):\n\u001b[1;32m    641\u001b[0m     \u001b[38;5;28;01mreturn\u001b[39;00m PeriodProperties(data, orig)\n\u001b[0;32m--> 643\u001b[0m \u001b[38;5;28;01mraise\u001b[39;00m \u001b[38;5;167;01mAttributeError\u001b[39;00m(\u001b[38;5;124m\"\u001b[39m\u001b[38;5;124mCan only use .dt accessor with datetimelike values\u001b[39m\u001b[38;5;124m\"\u001b[39m)\n",
      "\u001b[0;31mAttributeError\u001b[0m: Can only use .dt accessor with datetimelike values"
     ]
    }
   ],
   "source": [
    "def preprocess_data(data):\n",
    "    train = data[data['t_1h'].dt.year == 2022]\n",
    "    test = []\n",
    "    for name, group in data[data['t_1h'].dt.year == 2023].groupby(pd.Grouper(key='t_1h', freq='29h')):\n",
    "        train = pd.concat([train, group.iloc[:24]])\n",
    "        if len(group) > 24:\n",
    "            test.append(group.iloc[24])\n",
    "    return train, pd.DataFrame(test)\n",
    "\n",
    "train, eval_data = preprocess_data(train_data)\n",
    "# print(train.shape, eval_data.shape)"
   ]
  },
  {
   "cell_type": "code",
   "execution_count": 19,
   "metadata": {},
   "outputs": [
    {
     "name": "stdout",
     "output_type": "stream",
     "text": [
      "(3739, 10)\n"
     ]
    },
    {
     "data": {
      "text/html": [
       "<div>\n",
       "<style scoped>\n",
       "    .dataframe tbody tr th:only-of-type {\n",
       "        vertical-align: middle;\n",
       "    }\n",
       "\n",
       "    .dataframe tbody tr th {\n",
       "        vertical-align: top;\n",
       "    }\n",
       "\n",
       "    .dataframe thead th {\n",
       "        text-align: right;\n",
       "    }\n",
       "</style>\n",
       "<table border=\"1\" class=\"dataframe\">\n",
       "  <thead>\n",
       "    <tr style=\"text-align: right;\">\n",
       "      <th></th>\n",
       "      <th>iu_ac</th>\n",
       "      <th>date_debut</th>\n",
       "      <th>date_fin</th>\n",
       "      <th>libelle</th>\n",
       "      <th>iu_nd_aval</th>\n",
       "      <th>libelle_nd_aval</th>\n",
       "      <th>iu_nd_amont</th>\n",
       "      <th>libelle_nd_amont</th>\n",
       "      <th>geo_point_2d</th>\n",
       "      <th>geo_shape</th>\n",
       "    </tr>\n",
       "  </thead>\n",
       "  <tbody>\n",
       "    <tr>\n",
       "      <th>0</th>\n",
       "      <td>1223</td>\n",
       "      <td>1996-10-03T02:00:00+00:00</td>\n",
       "      <td>2023-01-01T01:00:00+00:00</td>\n",
       "      <td>Av_Pte_de_Sevres</td>\n",
       "      <td>618</td>\n",
       "      <td>Pte_Sevres-Armee_Air</td>\n",
       "      <td>619</td>\n",
       "      <td>Av_Pte_de_Sevres_PI</td>\n",
       "      <td>48.83458548908511, 2.2775887111084794</td>\n",
       "      <td>{\"coordinates\": [[2.2773736802582274, 48.83415...</td>\n",
       "    </tr>\n",
       "    <tr>\n",
       "      <th>1</th>\n",
       "      <td>1139</td>\n",
       "      <td>1996-10-03T02:00:00+00:00</td>\n",
       "      <td>2023-01-01T01:00:00+00:00</td>\n",
       "      <td>Rond_Pt_Pte_Plaine</td>\n",
       "      <td>627</td>\n",
       "      <td>Pte_Plaine-Av_Pte_Plaine</td>\n",
       "      <td>628</td>\n",
       "      <td>Pte_Plaine-Gal_Guillaumat</td>\n",
       "      <td>48.8278127813947, 2.292632476946377</td>\n",
       "      <td>{\"coordinates\": [[2.2928564154951085, 48.82776...</td>\n",
       "    </tr>\n",
       "    <tr>\n",
       "      <th>2</th>\n",
       "      <td>5266</td>\n",
       "      <td>1996-10-28T01:00:00+00:00</td>\n",
       "      <td>2023-01-01T01:00:00+00:00</td>\n",
       "      <td>PE_Poterne</td>\n",
       "      <td>478</td>\n",
       "      <td>SE_Italie</td>\n",
       "      <td>457</td>\n",
       "      <td>AE_Gentilly</td>\n",
       "      <td>48.817370106973385, 2.350550919738548</td>\n",
       "      <td>{\"coordinates\": [[2.3464715081625283, 48.81630...</td>\n",
       "    </tr>\n",
       "    <tr>\n",
       "      <th>3</th>\n",
       "      <td>5450</td>\n",
       "      <td>1996-11-06T01:00:00+00:00</td>\n",
       "      <td>2023-01-01T01:00:00+00:00</td>\n",
       "      <td>PI_St_Cloud</td>\n",
       "      <td>2488</td>\n",
       "      <td>AI_St_Cloud</td>\n",
       "      <td>2723</td>\n",
       "      <td>AI_Georges_Lafont</td>\n",
       "      <td>48.839259648175734, 2.254289772364343</td>\n",
       "      <td>{\"coordinates\": [[2.2546614296019127, 48.83818...</td>\n",
       "    </tr>\n",
       "    <tr>\n",
       "      <th>4</th>\n",
       "      <td>5417</td>\n",
       "      <td>1996-11-05T01:00:00+00:00</td>\n",
       "      <td>2023-01-01T01:00:00+00:00</td>\n",
       "      <td>PI_Courcelles</td>\n",
       "      <td>2270</td>\n",
       "      <td>SI_Asnieres</td>\n",
       "      <td>2736</td>\n",
       "      <td>AI_Champerret</td>\n",
       "      <td>48.88926481478913, 2.295812006937022</td>\n",
       "      <td>{\"coordinates\": [[2.292386753449537, 48.888225...</td>\n",
       "    </tr>\n",
       "  </tbody>\n",
       "</table>\n",
       "</div>"
      ],
      "text/plain": [
       "   iu_ac                 date_debut                   date_fin  \\\n",
       "0   1223  1996-10-03T02:00:00+00:00  2023-01-01T01:00:00+00:00   \n",
       "1   1139  1996-10-03T02:00:00+00:00  2023-01-01T01:00:00+00:00   \n",
       "2   5266  1996-10-28T01:00:00+00:00  2023-01-01T01:00:00+00:00   \n",
       "3   5450  1996-11-06T01:00:00+00:00  2023-01-01T01:00:00+00:00   \n",
       "4   5417  1996-11-05T01:00:00+00:00  2023-01-01T01:00:00+00:00   \n",
       "\n",
       "              libelle  iu_nd_aval           libelle_nd_aval  iu_nd_amont  \\\n",
       "0    Av_Pte_de_Sevres         618      Pte_Sevres-Armee_Air          619   \n",
       "1  Rond_Pt_Pte_Plaine         627  Pte_Plaine-Av_Pte_Plaine          628   \n",
       "2          PE_Poterne         478                 SE_Italie          457   \n",
       "3         PI_St_Cloud        2488               AI_St_Cloud         2723   \n",
       "4       PI_Courcelles        2270               SI_Asnieres         2736   \n",
       "\n",
       "            libelle_nd_amont                           geo_point_2d  \\\n",
       "0        Av_Pte_de_Sevres_PI  48.83458548908511, 2.2775887111084794   \n",
       "1  Pte_Plaine-Gal_Guillaumat    48.8278127813947, 2.292632476946377   \n",
       "2                AE_Gentilly  48.817370106973385, 2.350550919738548   \n",
       "3          AI_Georges_Lafont  48.839259648175734, 2.254289772364343   \n",
       "4              AI_Champerret   48.88926481478913, 2.295812006937022   \n",
       "\n",
       "                                           geo_shape  \n",
       "0  {\"coordinates\": [[2.2773736802582274, 48.83415...  \n",
       "1  {\"coordinates\": [[2.2928564154951085, 48.82776...  \n",
       "2  {\"coordinates\": [[2.3464715081625283, 48.81630...  \n",
       "3  {\"coordinates\": [[2.2546614296019127, 48.83818...  \n",
       "4  {\"coordinates\": [[2.292386753449537, 48.888225...  "
      ]
     },
     "execution_count": 19,
     "metadata": {},
     "output_type": "execute_result"
    }
   ],
   "source": [
    "print(metadata.shape)\n",
    "metadata.head()"
   ]
  },
  {
   "cell_type": "code",
   "execution_count": null,
   "metadata": {},
   "outputs": [],
   "source": [
    "# Drop rows where 'q' is NULL\n",
    "train_data = train_data[train_data['q'].notnull()]\n",
    "print(train_data.shape)\n",
    "# Optionally, check for missing values in other columns\n",
    "train_data = train_data.dropna(subset=['t_1h', 'etat_barre'])  # Assuming these are also critical\n",
    "print(train_data.shape)\n",
    "# Filtering data to include only those IDs present in the metadata\n",
    "train_data = train_data[train_data['iu_ac'].isin(metadata['iu_ac'])]\n",
    "print(train_data.shape)\n",
    " "
   ]
  },
  {
   "cell_type": "code",
   "execution_count": 6,
   "metadata": {},
   "outputs": [
    {
     "data": {
      "text/html": [
       "<div>\n",
       "<style scoped>\n",
       "    .dataframe tbody tr th:only-of-type {\n",
       "        vertical-align: middle;\n",
       "    }\n",
       "\n",
       "    .dataframe tbody tr th {\n",
       "        vertical-align: top;\n",
       "    }\n",
       "\n",
       "    .dataframe thead th {\n",
       "        text-align: right;\n",
       "    }\n",
       "</style>\n",
       "<table border=\"1\" class=\"dataframe\">\n",
       "  <thead>\n",
       "    <tr style=\"text-align: right;\">\n",
       "      <th></th>\n",
       "      <th>iu_ac</th>\n",
       "      <th>t_1h</th>\n",
       "      <th>etat_barre</th>\n",
       "      <th>q</th>\n",
       "      <th>hour</th>\n",
       "      <th>weekday</th>\n",
       "    </tr>\n",
       "  </thead>\n",
       "  <tbody>\n",
       "    <tr>\n",
       "      <th>0</th>\n",
       "      <td>1655</td>\n",
       "      <td>2022-01-12 12:00:00</td>\n",
       "      <td>3</td>\n",
       "      <td>957.0</td>\n",
       "      <td>12</td>\n",
       "      <td>2</td>\n",
       "    </tr>\n",
       "    <tr>\n",
       "      <th>1</th>\n",
       "      <td>1655</td>\n",
       "      <td>2022-01-12 13:00:00</td>\n",
       "      <td>3</td>\n",
       "      <td>957.0</td>\n",
       "      <td>13</td>\n",
       "      <td>2</td>\n",
       "    </tr>\n",
       "    <tr>\n",
       "      <th>2</th>\n",
       "      <td>1655</td>\n",
       "      <td>2022-01-12 14:00:00</td>\n",
       "      <td>3</td>\n",
       "      <td>1014.0</td>\n",
       "      <td>14</td>\n",
       "      <td>2</td>\n",
       "    </tr>\n",
       "    <tr>\n",
       "      <th>3</th>\n",
       "      <td>1655</td>\n",
       "      <td>2022-01-12 15:00:00</td>\n",
       "      <td>3</td>\n",
       "      <td>939.0</td>\n",
       "      <td>15</td>\n",
       "      <td>2</td>\n",
       "    </tr>\n",
       "    <tr>\n",
       "      <th>4</th>\n",
       "      <td>1655</td>\n",
       "      <td>2022-01-12 16:00:00</td>\n",
       "      <td>3</td>\n",
       "      <td>927.0</td>\n",
       "      <td>16</td>\n",
       "      <td>2</td>\n",
       "    </tr>\n",
       "  </tbody>\n",
       "</table>\n",
       "</div>"
      ],
      "text/plain": [
       "   iu_ac                t_1h  etat_barre       q  hour  weekday\n",
       "0   1655 2022-01-12 12:00:00           3   957.0    12        2\n",
       "1   1655 2022-01-12 13:00:00           3   957.0    13        2\n",
       "2   1655 2022-01-12 14:00:00           3  1014.0    14        2\n",
       "3   1655 2022-01-12 15:00:00           3   939.0    15        2\n",
       "4   1655 2022-01-12 16:00:00           3   927.0    16        2"
      ]
     },
     "execution_count": 6,
     "metadata": {},
     "output_type": "execute_result"
    }
   ],
   "source": [
    "# Convert 't_1h' to datetime format if not already\n",
    "train_data['t_1h'] = pd.to_datetime(train_data['t_1h'])\n",
    "# Extract time features\n",
    "train_data['hour'] = train_data['t_1h'].dt.hour\n",
    "train_data['weekday'] = train_data['t_1h'].dt.weekday\n",
    "train_data.head()"
   ]
  },
  {
   "cell_type": "code",
   "execution_count": 13,
   "metadata": {},
   "outputs": [
    {
     "data": {
      "text/html": [
       "<div>\n",
       "<style scoped>\n",
       "    .dataframe tbody tr th:only-of-type {\n",
       "        vertical-align: middle;\n",
       "    }\n",
       "\n",
       "    .dataframe tbody tr th {\n",
       "        vertical-align: top;\n",
       "    }\n",
       "\n",
       "    .dataframe thead th {\n",
       "        text-align: right;\n",
       "    }\n",
       "</style>\n",
       "<table border=\"1\" class=\"dataframe\">\n",
       "  <thead>\n",
       "    <tr style=\"text-align: right;\">\n",
       "      <th></th>\n",
       "      <th>iu_ac</th>\n",
       "      <th>t_1h</th>\n",
       "      <th>q</th>\n",
       "      <th>hour</th>\n",
       "      <th>weekday</th>\n",
       "      <th>etat_barre_1</th>\n",
       "      <th>etat_barre_2</th>\n",
       "      <th>etat_barre_3</th>\n",
       "    </tr>\n",
       "  </thead>\n",
       "  <tbody>\n",
       "    <tr>\n",
       "      <th>0</th>\n",
       "      <td>1655</td>\n",
       "      <td>2022-01-12 12:00:00</td>\n",
       "      <td>957.0</td>\n",
       "      <td>12</td>\n",
       "      <td>2</td>\n",
       "      <td>0</td>\n",
       "      <td>0</td>\n",
       "      <td>1</td>\n",
       "    </tr>\n",
       "    <tr>\n",
       "      <th>1</th>\n",
       "      <td>1655</td>\n",
       "      <td>2022-01-12 13:00:00</td>\n",
       "      <td>957.0</td>\n",
       "      <td>13</td>\n",
       "      <td>2</td>\n",
       "      <td>0</td>\n",
       "      <td>0</td>\n",
       "      <td>1</td>\n",
       "    </tr>\n",
       "    <tr>\n",
       "      <th>2</th>\n",
       "      <td>1655</td>\n",
       "      <td>2022-01-12 14:00:00</td>\n",
       "      <td>1014.0</td>\n",
       "      <td>14</td>\n",
       "      <td>2</td>\n",
       "      <td>0</td>\n",
       "      <td>0</td>\n",
       "      <td>1</td>\n",
       "    </tr>\n",
       "    <tr>\n",
       "      <th>3</th>\n",
       "      <td>1655</td>\n",
       "      <td>2022-01-12 15:00:00</td>\n",
       "      <td>939.0</td>\n",
       "      <td>15</td>\n",
       "      <td>2</td>\n",
       "      <td>0</td>\n",
       "      <td>0</td>\n",
       "      <td>1</td>\n",
       "    </tr>\n",
       "    <tr>\n",
       "      <th>4</th>\n",
       "      <td>1655</td>\n",
       "      <td>2022-01-12 16:00:00</td>\n",
       "      <td>927.0</td>\n",
       "      <td>16</td>\n",
       "      <td>2</td>\n",
       "      <td>0</td>\n",
       "      <td>0</td>\n",
       "      <td>1</td>\n",
       "    </tr>\n",
       "  </tbody>\n",
       "</table>\n",
       "</div>"
      ],
      "text/plain": [
       "   iu_ac                t_1h       q  hour  weekday  etat_barre_1  \\\n",
       "0   1655 2022-01-12 12:00:00   957.0    12        2             0   \n",
       "1   1655 2022-01-12 13:00:00   957.0    13        2             0   \n",
       "2   1655 2022-01-12 14:00:00  1014.0    14        2             0   \n",
       "3   1655 2022-01-12 15:00:00   939.0    15        2             0   \n",
       "4   1655 2022-01-12 16:00:00   927.0    16        2             0   \n",
       "\n",
       "   etat_barre_2  etat_barre_3  \n",
       "0             0             1  \n",
       "1             0             1  \n",
       "2             0             1  \n",
       "3             0             1  \n",
       "4             0             1  "
      ]
     },
     "execution_count": 13,
     "metadata": {},
     "output_type": "execute_result"
    }
   ],
   "source": [
    "# One-hot encoding\n",
    "train_data = pd.get_dummies(train_data, columns=['etat_barre'])\n",
    "train_data.head()\n",
    "# # Alternatively, for label encoding\n",
    "# from sklearn.preprocessing import LabelEncoder\n",
    "# le = LabelEncoder()\n",
    "# train_data['etat_barre'] = le.fit_transform(train_data['etat_barre'])\n"
   ]
  },
  {
   "cell_type": "code",
   "execution_count": null,
   "metadata": {},
   "outputs": [],
   "source": [
    "from sklearn.preprocessing import StandardScaler\n",
    "scaler = StandardScaler()\n",
    "\n",
    "# Assuming 'q' is the only continuous variable needing scaling\n",
    "train_data['q_scaled'] = scaler.fit_transform(train_data[['q']])\n"
   ]
  },
  {
   "cell_type": "code",
   "execution_count": null,
   "metadata": {},
   "outputs": [],
   "source": [
    "# Review the dataset\n",
    "train_data.head()\n"
   ]
  }
 ],
 "metadata": {
  "kernelspec": {
   "display_name": "traffic",
   "language": "python",
   "name": "python3"
  },
  "language_info": {
   "codemirror_mode": {
    "name": "ipython",
    "version": 3
   },
   "file_extension": ".py",
   "mimetype": "text/x-python",
   "name": "python",
   "nbconvert_exporter": "python",
   "pygments_lexer": "ipython3",
   "version": "3.9.19"
  }
 },
 "nbformat": 4,
 "nbformat_minor": 2
}
