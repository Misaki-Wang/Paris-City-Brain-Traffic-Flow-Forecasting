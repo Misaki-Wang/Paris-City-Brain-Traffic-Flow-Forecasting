{
 "cells": [
  {
   "cell_type": "code",
   "execution_count": null,
   "metadata": {},
   "outputs": [],
   "source": [
    "import pandas as pd\n",
    "import numpy as np\n",
    "import torch\n",
    "import torch.nn as nn\n",
    "from torch.utils.data import DataLoader, TensorDataset\n",
    "from torch.optim import Adam\n",
    "import torch\n",
    "import os\n",
    "from torch.utils.tensorboard import SummaryWriter\n",
    "from torch.nn.functional import l1_loss"
   ]
  },
  {
   "cell_type": "code",
   "execution_count": null,
   "metadata": {},
   "outputs": [],
   "source": [
    "if torch.cuda.is_available():\n",
    "    print(\"Available CUDA devices:\", torch.cuda.device_count())\n",
    "    for i in range(torch.cuda.device_count()):\n",
    "        print(f\"Device {i}: {torch.cuda.get_device_name(i)}\")\n",
    "else:\n",
    "    print(\"CUDA is not available.\")\n",
    "    \n",
    "device = torch.device('cuda:1')\n",
    "inputdir = '../data/processed/'\n",
    "resultdir = '../data/result/'\n",
    "BatchSize = 2048\n",
    "\n",
    "if not os.path.exists(resultdir):\n",
    "    os.makedirs(resultdir)"
   ]
  },
  {
   "cell_type": "code",
   "execution_count": null,
   "metadata": {},
   "outputs": [],
   "source": [
    "train_data = pd.read_csv('train_dataset.csv')\n",
    "test_data_x = pd.read_csv('test_dataset_x.csv')\n",
    "eval_data = pd.read_csv('eval_dataset.csv')"
   ]
  },
  {
   "cell_type": "code",
   "execution_count": null,
   "metadata": {},
   "outputs": [],
   "source": [
    "# npz Data Load example:\n",
    "def load_graph_data(filename=f\"{inputdir}graph_data.npz\"):\n",
    "    # 加载 npz 文件\n",
    "    data = np.load(filename)\n",
    "    \n",
    "    # 读取邻接矩阵\n",
    "    adjacency_matrix = data['adjacency_matrix']\n",
    "    \n",
    "    # 重构字典\n",
    "    keys = data['keys']\n",
    "    values = data['values']\n",
    "    index_to_iu_ac = {key: value for key, value in zip(keys, values)}\n",
    "    \n",
    "    return adjacency_matrix, index_to_iu_ac\n",
    "\n",
    "# 加载数据\n",
    "loaded_adj_matrix, loaded_node_mapping = load_graph_data()\n",
    "\n",
    "# 打印结果，验证加载\n",
    "print(\"Loaded Adjacency Matrix:\\n\", loaded_adj_matrix)\n",
    "print(\"Loaded Node Mapping:\", loaded_node_mapping)"
   ]
  }
 ],
 "metadata": {
  "kernelspec": {
   "display_name": "traffic",
   "language": "python",
   "name": "python3"
  },
  "language_info": {
   "name": "python",
   "version": "3.9.19"
  }
 },
 "nbformat": 4,
 "nbformat_minor": 2
}
