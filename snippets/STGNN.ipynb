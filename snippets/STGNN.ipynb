{
 "cells": [
  {
   "cell_type": "code",
   "execution_count": null,
   "metadata": {},
   "outputs": [],
   "source": [
    "import pandas as pd\n",
    "import numpy as np\n",
    "import torch\n",
    "import torch.nn as nn\n",
    "from torch_geometric.nn import GCNConv\n",
    "from torch.utils.data import DataLoader, TensorDataset\n",
    "from torch.optim import Adam\n",
    "import torch\n",
    "import os\n",
    "from torch.utils.tensorboard import SummaryWriter\n",
    "from torch.nn.functional import l1_loss\n",
    "import torch.nn.functional as F"
   ]
  },
  {
   "cell_type": "code",
   "execution_count": null,
   "metadata": {},
   "outputs": [],
   "source": [
    "device = torch.device('cuda:1')\n",
    "inputdir = '../data/processed/'\n",
    "resultdir = '../data/result/'\n",
    "batchsize = 2048\n",
    "feature_names = [\n",
    "    'hour_sin', 'hour_cos', \n",
    "    'day_of_week_sin', 'day_of_week_cos', \n",
    "    'month_sin', 'month_cos',\n",
    "    'etat_barre_0', 'etat_barre_1', 'etat_barre_2', 'etat_barre_3'\n",
    "]\n",
    "\n",
    "if torch.cuda.is_available():\n",
    "    print(\"Available CUDA devices:\", torch.cuda.device_count())\n",
    "    for i in range(torch.cuda.device_count()):\n",
    "        print(f\"Device {i}: {torch.cuda.get_device_name(i)}\")\n",
    "else:\n",
    "    print(\"CUDA is not available.\")\n",
    "if not os.path.exists(resultdir):\n",
    "    os.makedirs(resultdir)"
   ]
  },
  {
   "cell_type": "code",
   "execution_count": null,
   "metadata": {},
   "outputs": [],
   "source": [
    "train_data = pd.read_csv('train_dataset.csv')\n",
    "test_data_x = pd.read_csv('test_dataset_x.csv')\n",
    "eval_data = pd.read_csv('eval_dataset.csv')"
   ]
  },
  {
   "cell_type": "code",
   "execution_count": null,
   "metadata": {},
   "outputs": [],
   "source": [
    "def load_time_series_data(file_path, feature_names):\n",
    "    data = pd.read_csv(file_path)\n",
    "    features = data[feature_names].values\n",
    "    # 假设每个样本都是按时间步骤连续的，此处可能需要根据实际情况调整\n",
    "    features = features.reshape(-1, num_nodes, num_timesteps, len(feature_names))\n",
    "    return features\n",
    "\n",
    "train_features = load_time_series_data(f\"{inputdir}train_dataset.csv\", feature_names)\n",
    "eval_features = load_time_series_data(f\"{inputdir}eval_dataset.csv\", feature_names)\n",
    "test_features = load_time_series_data(f\"{inputdir}test_dataset_x.csv\", feature_names)\n"
   ]
  },
  {
   "cell_type": "code",
   "execution_count": null,
   "metadata": {},
   "outputs": [],
   "source": [
    "# npz Data Load example:\n",
    "def load_graph_data(filename=f\"{inputdir}graph_data.npz\"):\n",
    "    # 加载 npz 文件\n",
    "    data = np.load(filename)\n",
    "    \n",
    "    # 读取邻接矩阵\n",
    "    adjacency_matrix = data['adjacency_matrix']\n",
    "    \n",
    "    # 重构字典\n",
    "    keys = data['keys']\n",
    "    values = data['values']\n",
    "    index_to_iu_ac = {key: value for key, value in zip(keys, values)}\n",
    "    \n",
    "    return adjacency_matrix, index_to_iu_ac\n",
    "\n",
    "adjacency_matrix, index_to_iu_ac = load_graph_data(filename=f\"{inputdir}graph_data.npz\")\n",
    "\n",
    "# 打印结果，验证加载\n",
    "print(\"Loaded Adjacency Matrix:\\n\", adjacency_matrix)\n",
    "print(\"Loaded Node Mapping:\", index_to_iu_ac)"
   ]
  },
  {
   "cell_type": "code",
   "execution_count": null,
   "metadata": {},
   "outputs": [],
   "source": [
    "# 归一化邻接矩阵\n",
    "D = np.diag(np.sum(adjacency_matrix, axis=0))\n",
    "D_inv = np.linalg.inv(D)\n",
    "normalized_adjacency = np.dot(D_inv, adjacency_matrix)"
   ]
  },
  {
   "cell_type": "code",
   "execution_count": null,
   "metadata": {},
   "outputs": [],
   "source": [
    "train_features = torch.tensor(train_features, dtype=torch.float32)\n",
    "train_labels = torch.tensor(train_data['target'].values, dtype=torch.float32).unsqueeze(-1)\n",
    "\n",
    "train_dataset = TensorDataset(train_features, train_labels)\n",
    "train_loader = DataLoader(train_dataset, batch_size=32, shuffle=True)"
   ]
  },
  {
   "cell_type": "code",
   "execution_count": null,
   "metadata": {},
   "outputs": [],
   "source": [
    "class LSTMModel(nn.Module):\n",
    "    def __init__(self, input_size, hidden_size, num_layers, output_size, dropout=0.5):\n",
    "        super(LSTMModel, self).__init__()\n",
    "        self.hidden_size = hidden_size\n",
    "        self.num_layers = num_layers  \n",
    "        self.lstm = nn.LSTM(input_size, hidden_size, num_layers, batch_first=True, dropout=dropout if num_layers > 1 else 0)\n",
    "        self.fc = nn.Linear(hidden_size, output_size)\n",
    "\n",
    "    def forward(self, x):\n",
    "        h0 = torch.zeros(self.num_layers, x.size(0), self.hidden_size).to(x.device)\n",
    "        c0 = torch.zeros(self.num_layers, x.size(0), self.hidden_size).to(x.device)\n",
    "        out, _ = self.lstm(x, (h0, c0))\n",
    "        out = self.fc(out[:, -1, :])  # 取最后一个时间步\n",
    "        return out\n"
   ]
  },
  {
   "cell_type": "code",
   "execution_count": null,
   "metadata": {},
   "outputs": [],
   "source": [
    "class GraphConvolution(nn.Module):\n",
    "    def __init__(self, in_features, out_features):\n",
    "        super(GraphConvolution, self).__init__()\n",
    "        self.in_features = in_features\n",
    "        self.out_features = out_features\n",
    "        self.weight = nn.Parameter(torch.FloatTensor(in_features, out_features))\n",
    "        self.bias = nn.Parameter(torch.FloatTensor(out_features))\n",
    "        self.reset_parameters()\n",
    "\n",
    "    def reset_parameters(self):\n",
    "        stdv = 1. / np.sqrt(self.weight.size(1))\n",
    "        self.weight.data.uniform_(-stdv, stdv)\n",
    "        self.bias.data.uniform_(-stdv, stdv)\n",
    "\n",
    "    def forward(self, input, adj):\n",
    "        support = torch.matmul(input, self.weight)\n",
    "        output = torch.matmul(adj, support)\n",
    "        return output + self.bias\n",
    "\n",
    "class STGNN(nn.Module):\n",
    "    def __init__(self, num_features, num_nodes, hidden_size, num_layers, dropout=0.5):\n",
    "        super(STGNN, self).__init__()\n",
    "        self.gc1 = GraphConvolution(num_features, hidden_size)\n",
    "        self.lstm = LSTMModel(hidden_size * num_nodes, hidden_size, num_layers, num_nodes, dropout)\n",
    "        self.fc = nn.Linear(hidden_size, 1)  # Assuming the target is 1-dimensional\n",
    "\n",
    "    def forward(self, x, adj):\n",
    "        x = F.relu(self.gc1(x, adj))\n",
    "        x, _ = self.lstm(x)\n",
    "        x = self.fc(x[:, -1, :])  # Take the last time step\n",
    "        return x\n"
   ]
  },
  {
   "cell_type": "code",
   "execution_count": null,
   "metadata": {},
   "outputs": [],
   "source": [
    "def load_data(file_path, feature_names):\n",
    "    data = pd.read_csv(file_path)\n",
    "    features = data[feature_names].values\n",
    "    targets = data['target'].values\n",
    "    return features, targets\n",
    "\n",
    "def create_datasets(input_dir, feature_names):\n",
    "    train_features, train_targets = load_data(f\"{input_dir}train_dataset.csv\", feature_names)\n",
    "    eval_features, eval_targets = load_data(f\"{input_dir}eval_dataset.csv\", feature_names)\n",
    "    test_features, _ = load_data(f\"{input_dir}test_dataset_x.csv\", feature_names)\n",
    "\n",
    "    # Convert to PyTorch tensors\n",
    "    train_features, train_targets = torch.tensor(train_features, dtype=torch.float32), torch.tensor(train_targets, dtype=torch.float32).unsqueeze(1)\n",
    "    eval_features, eval_targets = torch.tensor(eval_features, dtype=torch.float32), torch.tensor(eval_targets, dtype=torch.float32).unsqueeze(1)\n",
    "    test_features = torch.tensor(test_features, dtype=torch.float32)\n",
    "\n",
    "    return train_features, train_targets, eval_features, eval_targets, test_features\n",
    "\n",
    "train_features, train_targets, eval_features, eval_targets, test_features = create_datasets(inputdir, feature_names)\n",
    "adjacency_matrix, index_to_iu_ac = load_graph_data()\n",
    "adjacency_matrix = torch.tensor(adjacency_matrix, dtype=torch.float32)\n"
   ]
  },
  {
   "cell_type": "code",
   "execution_count": null,
   "metadata": {},
   "outputs": [],
   "source": [
    "model = STGNN(len(feature_names), train_features.size(1), 64, 2).to(device)\n",
    "adjacency_matrix = adjacency_matrix.to(device)\n",
    "train_features, train_targets = train_features.to(device), train_targets.to(device)\n",
    "\n",
    "optimizer = torch.optim.Adam(model.parameters(), lr=0.01)\n",
    "criterion = nn.MSELoss()\n",
    "\n",
    "# Example training loop\n",
    "for epoch in range(100):\n",
    "    model.train()\n",
    "    optimizer.zero_grad()\n",
    "    output = model(train_features, adjacency_matrix)\n",
    "    loss = criterion(output, train_targets)\n",
    "    loss.backward()\n",
    "    optimizer.step()\n",
    "    print(f'Epoch {epoch}, Loss: {loss.item()}')\n"
   ]
  },
  {
   "cell_type": "code",
   "execution_count": null,
   "metadata": {},
   "outputs": [],
   "source": [
    "model.eval()\n",
    "with torch.no_grad():\n",
    "    test_output = model(test_features.to(device), adjacency_matrix)\n",
    "    print(test_output.cpu().numpy())"
   ]
  }
 ],
 "metadata": {
  "kernelspec": {
   "display_name": "traffic",
   "language": "python",
   "name": "python3"
  },
  "language_info": {
   "name": "python",
   "version": "3.9.19"
  }
 },
 "nbformat": 4,
 "nbformat_minor": 2
}
