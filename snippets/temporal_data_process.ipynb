{
 "cells": [
  {
   "cell_type": "code",
   "execution_count": 9,
   "metadata": {},
   "outputs": [],
   "source": [
    "import numpy as np\n",
    "import pandas as pd\n",
    "import torch\n",
    "from torch.utils.data import TensorDataset"
   ]
  },
  {
   "cell_type": "code",
   "execution_count": 10,
   "metadata": {},
   "outputs": [],
   "source": [
    "# Set device\n",
    "# device = torch.device('cuda:1')\n",
    "# if torch.cuda.is_available():\n",
    "#     print(\"Available CUDA devices:\", torch.cuda.device_count())\n",
    "#     for i in range(torch.cuda.device_count()):\n",
    "#         print(f\"Device {i}: {torch.cuda.get_device_name(i)}\")\n",
    "# else:\n",
    "#     print(\"CUDA is not available.\")\n",
    "# Directory for data and logs\n",
    "inputdir = '../data/'\n",
    "precesseddir = '../data/processed/'"
   ]
  },
  {
   "cell_type": "code",
   "execution_count": 11,
   "metadata": {},
   "outputs": [],
   "source": [
    "def to_datetime(data):\n",
    "    data['t_1h'] = pd.to_datetime(data['t_1h'])\n",
    "    return data\n",
    "\n",
    "def encode_categorical(data, column_name, num_classes):\n",
    "    categories = torch.tensor(data[column_name].values)\n",
    "    return torch.nn.functional.one_hot(categories, num_classes=num_classes).float()\n",
    "\n",
    "def process_time_features(data, time_column='t_1h'):\n",
    "    # 提取周期性时间特征\n",
    "    data['hour'] = data[time_column].dt.hour\n",
    "    data['day_of_week'] = data[time_column].dt.weekday\n",
    "    data['month'] = data[time_column].dt.month\n",
    "\n",
    "    # 应用正弦和余弦变换来捕获时间的周期性\n",
    "    data['hour_sin'] = np.sin(2 * np.pi * data['hour'] / 24)\n",
    "    data['hour_cos'] = np.cos(2 * np.pi * data['hour'] / 24)\n",
    "    data['day_of_week_sin'] = np.sin(2 * np.pi * data['day_of_week'] / 7)\n",
    "    data['day_of_week_cos'] = np.cos(2 * np.pi * data['day_of_week'] / 7)\n",
    "    data['month_sin'] = np.sin(2 * np.pi * data['month'] / 12)\n",
    "    data['month_cos'] = np.cos(2 * np.pi * data['month'] / 12)\n",
    "    return data\n",
    "\n",
    "\n",
    "def data_to_tensor(data, train=1):\n",
    "    to_datetime(data)\n",
    "    print(\"Number of rows in data:\", len(data))\n",
    "    if 'id' in data.columns:\n",
    "        data.drop('id', axis=1, inplace=True)\n",
    "    \n",
    "    # One-hot encode 'etat_barre'\n",
    "    etat_barre_encoded = encode_categorical(data, 'etat_barre', 4)\n",
    "    # Process time features\n",
    "    data = process_time_features(data, 't_1h')\n",
    "    \n",
    "    # Combine features into a single tensor\n",
    "    features = torch.cat([\n",
    "        torch.tensor(data[['iu_ac', 'hour_sin', 'hour_cos', 'day_of_week_sin', 'day_of_week_cos', 'month_sin', 'month_cos']].values).float(),\n",
    "        etat_barre_encoded\n",
    "    ], dim=1)\n",
    "\n",
    "    if train:\n",
    "        targets = torch.tensor(data['q'].values).float()\n",
    "        return TensorDataset(features, targets)\n",
    "    return TensorDataset(features)"
   ]
  },
  {
   "cell_type": "code",
   "execution_count": 12,
   "metadata": {},
   "outputs": [],
   "source": [
    "def tensor_dataset_to_dataframe(tensor_dataset, feature_names):\n",
    "    # 从 TensorDataset 中提取特征和目标张量\n",
    "    features = tensor_dataset.tensors[0]\n",
    "    if len(tensor_dataset.tensors) > 1:\n",
    "        targets = tensor_dataset.tensors[1]\n",
    "    else:\n",
    "        targets = None\n",
    "    \n",
    "    # 将特征张量转换为 DataFrame\n",
    "    features_df = pd.DataFrame(features.numpy(), columns=feature_names)\n",
    "    \n",
    "    # 如果存在目标，添加到 DataFrame\n",
    "    if targets is not None:\n",
    "        features_df['target'] = targets.numpy()\n",
    "    \n",
    "    return features_df\n",
    "\n",
    "\n",
    "feature_names = [\n",
    "    'iu_ac',\n",
    "    'hour_sin', 'hour_cos', \n",
    "    'day_of_week_sin', 'day_of_week_cos', \n",
    "    'month_sin', 'month_cos',\n",
    "    'etat_barre_0', 'etat_barre_1', 'etat_barre_2', 'etat_barre_3'\n",
    "]\n"
   ]
  },
  {
   "cell_type": "code",
   "execution_count": 23,
   "metadata": {},
   "outputs": [],
   "source": [
    "def process_and_save_data():\n",
    "    # train_data = pd.read_csv(f'{inputdir}loop_sensor_train.csv')\n",
    "    # train_dataset = data_to_tensor(train_data)\n",
    "    # train_df = tensor_dataset_to_dataframe(train_dataset, feature_names)\n",
    "    # train_df.to_csv(f'{precesseddir}train_dataset.csv', index=False)\n",
    "    \n",
    "    eval_data = pd.read_csv(f'{inputdir}loop_sensor_eval.csv')\n",
    "    eval_dataset = data_to_tensor(eval_data)   \n",
    "    eval_df = tensor_dataset_to_dataframe(eval_dataset, feature_names)    \n",
    "    eval_df.to_csv(f'{precesseddir}eval_dataset.csv', index=False)    \n",
    "    \n",
    "     \n",
    "    test_data_x = pd.read_csv(f'{inputdir}loop_sensor_test_x.csv')\n",
    "    test_dataset_x = data_to_tensor(test_data_x, train=0)\n",
    "    test_df = tensor_dataset_to_dataframe(test_dataset_x, feature_names)   \n",
    "    test_df.to_csv(f'{precesseddir}test_dataset_x.csv', index=False)   "
   ]
  },
  {
   "cell_type": "code",
   "execution_count": 24,
   "metadata": {},
   "outputs": [
    {
     "name": "stdout",
     "output_type": "stream",
     "text": [
      "Number of rows in data: 439298\n",
      "Number of rows in data: 439298\n"
     ]
    }
   ],
   "source": [
    "process_and_save_data()"
   ]
  }
 ],
 "metadata": {
  "kernelspec": {
   "display_name": "traffic",
   "language": "python",
   "name": "python3"
  },
  "language_info": {
   "codemirror_mode": {
    "name": "ipython",
    "version": 3
   },
   "file_extension": ".py",
   "mimetype": "text/x-python",
   "name": "python",
   "nbconvert_exporter": "python",
   "pygments_lexer": "ipython3",
   "version": "3.9.19"
  }
 },
 "nbformat": 4,
 "nbformat_minor": 2
}
