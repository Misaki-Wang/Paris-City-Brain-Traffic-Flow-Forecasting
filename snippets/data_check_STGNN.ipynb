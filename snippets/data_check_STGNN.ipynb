{
 "cells": [
  {
   "cell_type": "code",
   "execution_count": 7,
   "metadata": {},
   "outputs": [],
   "source": [
    "import pandas as pd"
   ]
  },
  {
   "cell_type": "code",
   "execution_count": 8,
   "metadata": {},
   "outputs": [
    {
     "name": "stdout",
     "output_type": "stream",
     "text": [
      "t_1h\n",
      "2022-01-01 00:00:00    1712\n",
      "2022-01-01 01:00:00    1710\n",
      "2022-01-01 02:00:00    1708\n",
      "2022-01-01 03:00:00    1715\n",
      "2022-01-01 04:00:00    1715\n",
      "                       ... \n",
      "2024-01-14 19:00:00    1443\n",
      "2024-01-14 20:00:00    1438\n",
      "2024-01-14 21:00:00    1425\n",
      "2024-01-14 22:00:00    1432\n",
      "2024-01-14 23:00:00    1430\n",
      "Length: 15896, dtype: int64\n"
     ]
    }
   ],
   "source": [
    "inputdir = '../data/'\n",
    "# 读取数据\n",
    "train_data = pd.read_csv(f'{inputdir}loop_sensor_train.csv')\n",
    "\n",
    "# 检查每个时间戳 t_1h 有多少个相同的行\n",
    "counts = train_data.groupby('t_1h').size()\n",
    "\n",
    "# 打印结果\n",
    "print(counts)   "
   ]
  },
  {
   "cell_type": "code",
   "execution_count": 9,
   "metadata": {},
   "outputs": [
    {
     "name": "stdout",
     "output_type": "stream",
     "text": [
      "t_1h\n",
      "2022-01-28 00:00:00    1737\n",
      "2022-02-12 13:00:00    1737\n",
      "2022-01-27 15:00:00    1737\n",
      "2022-01-28 10:00:00    1737\n",
      "2022-01-28 05:00:00    1737\n",
      "                       ... \n",
      "2022-12-28 13:00:00     113\n",
      "2022-12-15 14:00:00     112\n",
      "2022-12-31 19:00:00     112\n",
      "2022-12-15 20:00:00     110\n",
      "2023-11-07 19:00:00      86\n",
      "Length: 15896, dtype: int64\n"
     ]
    }
   ],
   "source": [
    "# 按行数排序，显示最多行数的时间戳\n",
    "sorted_counts = counts.sort_values(ascending=False)\n",
    "print(sorted_counts)"
   ]
  },
  {
   "cell_type": "code",
   "execution_count": 10,
   "metadata": {},
   "outputs": [
    {
     "data": {
      "text/plain": [
       "1455.2355938600906"
      ]
     },
     "execution_count": 10,
     "metadata": {},
     "output_type": "execute_result"
    }
   ],
   "source": [
    "# 按时间戳 t_1h 计算车流量 q 的平均值\n",
    "sorted_counts.mean()"
   ]
  },
  {
   "cell_type": "code",
   "execution_count": 11,
   "metadata": {},
   "outputs": [],
   "source": [
    "# 计算每个行数出现的次数\n",
    "frequency_of_counts = sorted_counts.value_counts()"
   ]
  },
  {
   "cell_type": "code",
   "execution_count": 12,
   "metadata": {},
   "outputs": [
    {
     "name": "stdout",
     "output_type": "stream",
     "text": [
      "The most frequent row count is: 1451, which appears 186 times.\n"
     ]
    }
   ],
   "source": [
    "# 使用 value_counts() 来查看哪个行数出现最频繁\n",
    "mode_count = sorted_counts.value_counts().idxmax()\n",
    "mode_frequency = frequency_of_counts.max()  # 这是众数出现的次数\n",
    "# 打印结果\n",
    "print(f\"The most frequent row count is: {mode_count}, which appears {mode_frequency} times.\")"
   ]
  }
 ],
 "metadata": {
  "kernelspec": {
   "display_name": "traffic",
   "language": "python",
   "name": "python3"
  },
  "language_info": {
   "codemirror_mode": {
    "name": "ipython",
    "version": 3
   },
   "file_extension": ".py",
   "mimetype": "text/x-python",
   "name": "python",
   "nbconvert_exporter": "python",
   "pygments_lexer": "ipython3",
   "version": "3.9.19"
  }
 },
 "nbformat": 4,
 "nbformat_minor": 2
}
